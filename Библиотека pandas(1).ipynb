{
 "cells": [
  {
   "cell_type": "code",
   "execution_count": 112,
   "id": "b87ce70d-6ef4-4adf-90e3-e2b90f847339",
   "metadata": {},
   "outputs": [
    {
     "data": {
      "text/plain": [
       "movieId  title                                    \n",
       "318      Shawshank Redemption, The (1994)             153\n",
       "296      Pulp Fiction (1994)                          123\n",
       "356      Forrest Gump (1994)                          116\n",
       "2571     Matrix, The (1999)                           109\n",
       "260      Star Wars: Episode IV - A New Hope (1977)    104\n",
       "Name: movieId, dtype: int64"
      ]
     },
     "execution_count": 112,
     "metadata": {},
     "output_type": "execute_result"
    }
   ],
   "source": [
    "#1 задание\n",
    "movies = pd.read_csv('movies.csv')\n",
    "movies.head()\n",
    "\n",
    "ratings = pd.read_csv('ratings.csv')\n",
    "unite = ratings.merge(movies, on = 'movieId')\n",
    "unite.head()\n",
    "\n",
    "max_ = ratings['rating'].max()\n",
    "filtering = unite[(unite['rating']==max_)]\n",
    "fr = filtering.groupby (['movieId', 'title'])['movieId'].count()\n",
    "fr.sort_values(ascending=False).head()"
   ]
  },
  {
   "cell_type": "code",
   "execution_count": 162,
   "id": "9c041223-f59e-446f-aff2-08a831db5608",
   "metadata": {},
   "outputs": [
    {
     "name": "stdout",
     "output_type": "stream",
     "text": [
      "Количество потребления для стран Прибалтики (Латвия, Литва и Эстония) категорий 4, 12 и 21 за период с 2005 по 2010 года равно 165867.0КВт\n"
     ]
    }
   ],
   "source": [
    "#2 Задание\n",
    "the_amount = pd.read_csv('power.csv')\n",
    "the_amount.head()\n",
    "\n",
    "filtering = the_amount[(the_amount['country']=='Estonia') | (the_amount['country']=='Lithuania') | (the_amount['country']=='Latvia') ]\n",
    "filtering.head()\n",
    "\n",
    "fc=filtering[(filtering['category']==4) | (filtering['category']==12) | (filtering['category']==21) & (filtering['year']<2010) & (filtering['year']>2005)]\n",
    "print('Количество потребления для стран Прибалтики (Латвия, Литва и Эстония) категорий 4, 12 и 21 за период с 2005 по 2010 года равно {}КВт'.format(fc['quantity'].sum()))"
   ]
  },
  {
   "cell_type": "code",
   "execution_count": 186,
   "id": "fd9bf141-47e0-4d97-8ad6-1893540f90a9",
   "metadata": {},
   "outputs": [
    {
     "data": {
      "text/html": [
       "<div>\n",
       "<style scoped>\n",
       "    .dataframe tbody tr th:only-of-type {\n",
       "        vertical-align: middle;\n",
       "    }\n",
       "\n",
       "    .dataframe tbody tr th {\n",
       "        vertical-align: top;\n",
       "    }\n",
       "\n",
       "    .dataframe thead th {\n",
       "        text-align: right;\n",
       "    }\n",
       "</style>\n",
       "<table border=\"1\" class=\"dataframe\">\n",
       "  <thead>\n",
       "    <tr style=\"text-align: right;\">\n",
       "      <th></th>\n",
       "      <th>Функция или метод</th>\n",
       "      <th>Назначение</th>\n",
       "    </tr>\n",
       "  </thead>\n",
       "  <tbody>\n",
       "    <tr>\n",
       "      <th>0</th>\n",
       "      <td>S = 'str'; S = \"str\"; S = '''str'''; S = \"\"\"st...</td>\n",
       "      <td>Литералы строк</td>\n",
       "    </tr>\n",
       "    <tr>\n",
       "      <th>1</th>\n",
       "      <td>S = \"s\\np\\ta\\nbbb\"</td>\n",
       "      <td>Экранированные последовательности</td>\n",
       "    </tr>\n",
       "    <tr>\n",
       "      <th>2</th>\n",
       "      <td>S = r\"C:\\temp\\new\"</td>\n",
       "      <td>Неформатированные строки (подавляют экранирова...</td>\n",
       "    </tr>\n",
       "    <tr>\n",
       "      <th>3</th>\n",
       "      <td>S = b\"byte\"</td>\n",
       "      <td>Строка байтов</td>\n",
       "    </tr>\n",
       "    <tr>\n",
       "      <th>4</th>\n",
       "      <td>S1 + S2</td>\n",
       "      <td>Конкатенация (сложение строк)</td>\n",
       "    </tr>\n",
       "  </tbody>\n",
       "</table>\n",
       "</div>"
      ],
      "text/plain": [
       "                                   Функция или метод  \\\n",
       "0  S = 'str'; S = \"str\"; S = '''str'''; S = \"\"\"st...   \n",
       "1                                 S = \"s\\np\\ta\\nbbb\"   \n",
       "2                                 S = r\"C:\\temp\\new\"   \n",
       "3                                        S = b\"byte\"   \n",
       "4                                            S1 + S2   \n",
       "\n",
       "                                          Назначение  \n",
       "0                                     Литералы строк  \n",
       "1                  Экранированные последовательности  \n",
       "2  Неформатированные строки (подавляют экранирова...  \n",
       "3                                      Строка байтов  \n",
       "4                      Конкатенация (сложение строк)  "
      ]
     },
     "execution_count": 186,
     "metadata": {},
     "output_type": "execute_result"
    }
   ],
   "source": [
    "#3 Задание\n",
    "data=pd.read_html('https://pythonworld.ru/tipy-dannyx-v-python/stroki-funkcii-i-metody-strok.html')[0]\n",
    "data.head()"
   ]
  },
  {
   "cell_type": "code",
   "execution_count": null,
   "id": "7742ee49-c56a-4aa4-9643-42a1282ee86c",
   "metadata": {},
   "outputs": [],
   "source": []
  },
  {
   "cell_type": "code",
   "execution_count": null,
   "id": "fb40bb31-e2a4-43f4-8986-df10082b900d",
   "metadata": {},
   "outputs": [],
   "source": []
  }
 ],
 "metadata": {
  "kernelspec": {
   "display_name": "Python 3 (ipykernel)",
   "language": "python",
   "name": "python3"
  },
  "language_info": {
   "codemirror_mode": {
    "name": "ipython",
    "version": 3
   },
   "file_extension": ".py",
   "mimetype": "text/x-python",
   "name": "python",
   "nbconvert_exporter": "python",
   "pygments_lexer": "ipython3",
   "version": "3.12.4"
  }
 },
 "nbformat": 4,
 "nbformat_minor": 5
}
