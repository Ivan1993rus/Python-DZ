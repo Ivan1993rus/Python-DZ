{
 "cells": [
  {
   "cell_type": "code",
   "execution_count": 47,
   "id": "c4084794-66c4-48cc-8084-f04839920a8b",
   "metadata": {},
   "outputs": [],
   "source": [
    "from datetime import datetime\n",
    "from datetime import timedelta"
   ]
  },
  {
   "cell_type": "code",
   "execution_count": 31,
   "id": "6f22618a-129d-4ed4-9603-03589227024e",
   "metadata": {},
   "outputs": [],
   "source": [
    "#1 Задание\n",
    "The_Moscow_Times = 'Wednesday, October 2, 2002'\n",
    "The_Guardian = 'Friday, 11.10.13'\n",
    "Daily_News = 'Thursday, 18 August 1977'"
   ]
  },
  {
   "cell_type": "code",
   "execution_count": 39,
   "id": "7a56f5ef-cdf8-410e-980f-1e1d808ecb1a",
   "metadata": {},
   "outputs": [
    {
     "name": "stdout",
     "output_type": "stream",
     "text": [
      "Wednesday, October 2, 2002\n",
      "Friday, 11.10.13\n",
      "Thursday, 18 August 1977\n"
     ]
    }
   ],
   "source": [
    "datetime.strptime(The_Moscow_Times, '%A, %B %w, %Y')\n",
    "datetime.strptime(The_Guardian, '%A, %d.%m.%y')\n",
    "datetime.strptime(Daily_News, '%A, %d %B %Y')\n",
    "print(The_Moscow_Times)\n",
    "print(The_Guardian)\n",
    "print(Daily_News)"
   ]
  },
  {
   "cell_type": "code",
   "execution_count": 83,
   "id": "16d64f00-a65f-4ea3-b724-f88bb08ea7f5",
   "metadata": {},
   "outputs": [
    {
     "name": "stdout",
     "output_type": "stream",
     "text": [
      "True\n",
      "False\n",
      "False\n"
     ]
    }
   ],
   "source": [
    "#Задание 2\n",
    "stream = ['2018-04-02', '2018-02-29', '2018-19-02']\n",
    "def checking_the_date(stream):\n",
    "    \n",
    "    for c_t_d in stream:\n",
    "        try:\n",
    "            datetime.strptime(c_t_d, '%Y-%m-%d')\n",
    "            print(True)\n",
    "        except:\n",
    "            print(False) \n",
    "checking_the_date(stream)\n",
    "    \n"
   ]
  },
  {
   "cell_type": "code",
   "execution_count": 1,
   "id": "16f7aaa0-7377-4635-b1ce-61310eba6c67",
   "metadata": {},
   "outputs": [],
   "source": []
  },
  {
   "cell_type": "code",
   "execution_count": 63,
   "id": "1c067713-74ad-4df7-a4fa-dbe071cf9379",
   "metadata": {},
   "outputs": [
    {
     "name": "stdin",
     "output_type": "stream",
     "text": [
      " 1993-07-18\n",
      " 1993-07-17\n"
     ]
    },
    {
     "name": "stdout",
     "output_type": "stream",
     "text": [
      "Некорректный ввод. Список пуст.\n",
      "[]\n"
     ]
    }
   ],
   "source": [
    "#3 Задание\n",
    "def date_range():\n",
    "    start_date = input('')\n",
    "    end_date = input('')\n",
    "    date_list = []\n",
    "    try:\n",
    "        start_date_dt = datetime.strptime(start_date, '%Y-%m-%d')\n",
    "        end_date_dt = datetime.strptime(end_date, '%Y-%m-%d')\n",
    "        if start_date_dt < end_date_dt:\n",
    "            current_date = start_date_dt\n",
    "            while current_date <= end_date_dt:\n",
    "                date_list.append(current_date.strftime('%Y-%m-%d'))\n",
    "                current_date += timedelta(days = 1)\n",
    "            print('Список дат:')\n",
    "            print('\\n'.join(date_list))\n",
    "        else:\n",
    "            print('Некорректный ввод. Список пуст.')\n",
    "            print(date_list)\n",
    "    except ValueError:\n",
    "            print('Некорректный ввод. Список пуст.')\n",
    "            print(date_list)\n",
    "        \n",
    "date_range()"
   ]
  },
  {
   "cell_type": "code",
   "execution_count": null,
   "id": "46942011-dce4-49b8-8490-a236aeb05183",
   "metadata": {},
   "outputs": [],
   "source": [
    "#1993-07-18\n",
    "#1999-03-14"
   ]
  }
 ],
 "metadata": {
  "kernelspec": {
   "display_name": "Python 3 (ipykernel)",
   "language": "python",
   "name": "python3"
  },
  "language_info": {
   "codemirror_mode": {
    "name": "ipython",
    "version": 3
   },
   "file_extension": ".py",
   "mimetype": "text/x-python",
   "name": "python",
   "nbconvert_exporter": "python",
   "pygments_lexer": "ipython3",
   "version": "3.12.4"
  }
 },
 "nbformat": 4,
 "nbformat_minor": 5
}
